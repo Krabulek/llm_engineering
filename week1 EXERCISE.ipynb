{
 "cells": [
  {
   "cell_type": "markdown",
   "id": "fe12c203-e6a6-452c-a655-afb8a03a4ff5",
   "metadata": {},
   "source": [
    "# End of week 1 exercise\n",
    "\n",
    "To demonstrate your familiarity with OpenAI API, and also Ollama, build a tool that takes a technical question,  \n",
    "and responds with an explanation. This is a tool that you will be able to use yourself during the course!"
   ]
  },
  {
   "cell_type": "code",
   "execution_count": 1,
   "id": "c1070317-3ed9-4659-abe3-828943230e03",
   "metadata": {},
   "outputs": [],
   "source": [
    "# imports\n",
    "import os\n",
    "from dotenv import load_dotenv\n",
    "from IPython.display import Markdown, display, update_display\n",
    "from openai import OpenAI\n",
    "import ollama"
   ]
  },
  {
   "cell_type": "code",
   "execution_count": 2,
   "id": "4a456906-915a-4bfd-bb9d-57e505c5093f",
   "metadata": {},
   "outputs": [],
   "source": [
    "# constants\n",
    "\n",
    "MODEL_GPT = 'gpt-4o-mini'\n",
    "MODEL_LLAMA = 'llama3.2'"
   ]
  },
  {
   "cell_type": "code",
   "execution_count": 3,
   "id": "a8d7923c-5f28-4c30-8556-342d7c8497c1",
   "metadata": {},
   "outputs": [],
   "source": [
    "# set up environment\n",
    "\n",
    "load_dotenv(override=True)\n",
    "api_key = os.getenv('OPENAI_API_KEY')\n",
    "\n",
    "openai = OpenAI()"
   ]
  },
  {
   "cell_type": "code",
   "execution_count": 7,
   "id": "42a07448-1aa9-431d-99bd-78a91aef17f8",
   "metadata": {},
   "outputs": [],
   "source": [
    "system_prompt = \"You are an AI expert that answers technical questions related to Generative AI. \\\n",
    "The answer should be short and smart, you can use a metaphore to explain a difficult problem. \\\n",
    "Provide a Python code example if it's relevant. Respond in markdown.\""
   ]
  },
  {
   "cell_type": "code",
   "execution_count": 9,
   "id": "3f0d0137-52b0-47a8-81a8-11a90a010798",
   "metadata": {},
   "outputs": [],
   "source": [
    "# here is the question; type over this to ask something new\n",
    "\n",
    "question = \"\"\"\n",
    "Please explain what this code does and why:\n",
    "yield from {book.get(\"author\") for book in books if book.get(\"author\")}\n",
    "\"\"\""
   ]
  },
  {
   "cell_type": "markdown",
   "id": "f52216d7-4cec-4556-bf73-9183c91a6000",
   "metadata": {},
   "source": [
    "## GPT-4o-mini"
   ]
  },
  {
   "cell_type": "code",
   "execution_count": 13,
   "id": "60ce7000-a4a5-4cce-a261-e75ef45063b4",
   "metadata": {},
   "outputs": [],
   "source": [
    "# Get gpt-4o-mini to answer, with streaming\n",
    "\n",
    "def stream_answer(user_question):\n",
    "    stream = openai.chat.completions.create(\n",
    "        model=MODEL_GPT,\n",
    "        messages=[\n",
    "            {\"role\": \"system\", \"content\": system_prompt},\n",
    "            {\"role\": \"user\", \"content\": user_question}\n",
    "          ],\n",
    "        stream=True\n",
    "    )\n",
    "    \n",
    "    response = \"\"\n",
    "    display_handle = display(Markdown(\"\"), display_id=True)\n",
    "    for chunk in stream:\n",
    "        response += chunk.choices[0].delta.content or ''\n",
    "        response = response.replace(\"```\",\"\").replace(\"markdown\", \"\")\n",
    "        update_display(Markdown(response), display_id=display_handle.display_id)"
   ]
  },
  {
   "cell_type": "code",
   "execution_count": 14,
   "id": "6d1df975-cf0b-4e13-b0ab-a141d3037652",
   "metadata": {},
   "outputs": [
    {
     "data": {
      "text/markdown": [
       "The code snippet you've provided uses a Python feature called **generator expressions**, along with set comprehension. Let's break it down:\n",
       "\n",
       "### Explanation\n",
       "\n",
       "1. **`{book.get(\"author\") for book in books if book.get(\"author\")}`**:\n",
       "   - This part iterates over a collection named `books`.\n",
       "   - For each `book`, it attempts to get the value associated with the key `\"author\"`.\n",
       "   - The condition `if book.get(\"author\")` ensures that only books with an existing author (i.e., not `None` or an empty string) are included.\n",
       "   - The result is a **set** of authors, meaning duplicates are removed.\n",
       "\n",
       "2. **`yield from`**:\n",
       "   - This keyword is used in generator functions to yield all items from an iterable (in this case, the set of authors).\n",
       "   - It effectively \"delegates\" yielding to another iterable.\n",
       "\n",
       "### Metaphor\n",
       "\n",
       "Think of this code like a library's checkout desk where each book is a unique visitor. The checkout clerk (the generator) only hands the names of authors who are currently registered (exist in the book's data). If an author doesn't exist for a particular book, that book is skipped. When a registered author comes, he or she is announced (yielded) without duplicates.\n",
       "\n",
       "### Python Example\n",
       "\n",
       "Here's a small example illustrating its usage:\n",
       "\n",
       "python\n",
       "books = [\n",
       "    {\"title\": \"Book One\", \"author\": \"Author A\"},\n",
       "    {\"title\": \"Book Two\", \"author\": \"Author B\"},\n",
       "    {\"title\": \"Book Three\", \"author\": None},\n",
       "    {\"title\": \"Book Four\", \"author\": \"Author A\"},\n",
       "]\n",
       "\n",
       "# A generator function\n",
       "def get_unique_authors(books):\n",
       "    yield from {book.get(\"author\") for book in books if book.get(\"author\")}\n",
       "\n",
       "# Using the generator\n",
       "for author in get_unique_authors(books):\n",
       "    print(author)\n",
       "\n",
       "\n",
       "### Output\n",
       "\n",
       "Author A\n",
       "Author B\n",
       "\n",
       "\n",
       "In this example, \"Author A\" only appears once because we collect authors in a set, demonstrating the intent of the original code!"
      ],
      "text/plain": [
       "<IPython.core.display.Markdown object>"
      ]
     },
     "metadata": {},
     "output_type": "display_data"
    }
   ],
   "source": [
    "stream_answer(question)"
   ]
  },
  {
   "cell_type": "markdown",
   "id": "b9cfed39-f3d3-4827-bf64-ccd4c193bae5",
   "metadata": {},
   "source": [
    "## Llama 3.2"
   ]
  },
  {
   "cell_type": "code",
   "execution_count": 15,
   "id": "8f7c8ea8-4082-4ad0-8751-3301adcf6538",
   "metadata": {},
   "outputs": [],
   "source": [
    "# Get Llama 3.2 to answer\n",
    "\n",
    "def answear_question(question):\n",
    "    messages = [\n",
    "        {\"role\": \"system\", \"content\": system_prompt},\n",
    "        {\"role\": \"user\", \"content\": question}\n",
    "    ]\n",
    "    response = ollama.chat(model=MODEL_LLAMA, messages=messages)\n",
    "    display(Markdown(response['message']['content']))"
   ]
  },
  {
   "cell_type": "code",
   "execution_count": 16,
   "id": "9864e5ea-7830-4efc-adf3-530dbce9b5a1",
   "metadata": {},
   "outputs": [
    {
     "data": {
      "text/markdown": [
       "**Unpacking Nested Iterables**\n",
       "================================\n",
       "\n",
       "The given code snippet is using a feature of Python called \"nested iterable unpacking\" or \"yield from\". This allows us to iterate over the results of another generator expression.\n",
       "\n",
       "Here's what it does:\n",
       "\n",
       "*   `book.get(\"author\")` attempts to retrieve the value associated with the key `\"author\"` from each book dictionary. If the key is missing, it returns `None`.\n",
       "*   `{... for book in books if book.get(\"author\")}` generates a sequence of values from these retrieved author names.\n",
       "*   `yield from ...` then unpacks this sequence into individual yields, effectively \"unfolding\" the nested generator.\n",
       "\n",
       "**Why?**\n",
       "--------\n",
       "\n",
       "This code is useful when you want to process each item in a list of books individually, but they are stored within another data structure (like a dictionary) where each book has its own author. It's like taking multiple baskets of fruit and unwrapping them to give you individual apples one by one.\n",
       "\n",
       "**Example Use Case**\n",
       "--------------------\n",
       "\n",
       "Suppose we have a `books` list where each item is a dictionary with an `\"author\"` key:\n",
       "```python\n",
       "books = [\n",
       "    {\"title\": \"Book 1\", \"author\": \"John\"},\n",
       "    {\"title\": \"Book 2\", \"author\": None},\n",
       "    {\"title\": \"Book 3\", \"author\": \"Jane\"}\n",
       "]\n",
       "\n",
       "# Using the given code snippet to unpack author names\n",
       "for author in yield from {book.get(\"author\") for book in books if book.get(\"author\")}:\n",
       "    print(author)\n",
       "```\n",
       "Output:\n",
       "```\n",
       "John\n",
       "None\n",
       "Jane\n",
       "```\n",
       "\n",
       "Note that `yield from` only works with iterable objects (like lists, generators, or dictionaries), not with non-iterable ones."
      ],
      "text/plain": [
       "<IPython.core.display.Markdown object>"
      ]
     },
     "metadata": {},
     "output_type": "display_data"
    }
   ],
   "source": [
    "answear_question(question)"
   ]
  },
  {
   "cell_type": "code",
   "execution_count": 17,
   "id": "3e3a2b04-532e-427f-82ef-2705e117039c",
   "metadata": {},
   "outputs": [
    {
     "data": {
      "text/markdown": [
       "**Unpacking the Magic of `yield from`**\n",
       "=====================================\n",
       "\n",
       "`yield from` is a powerful feature in Python that allows you to \"yield\" multiple iterators one by one, making your code more efficient and easier to read.\n",
       "\n",
       "Think of it like a librarian helping you access books from a shelf. Instead of retrieving all books at once, the librarian yields each book individually, allowing you to process them sequentially.\n",
       "\n",
       "**Code Example**\n",
       "```python\n",
       "def flatten(iterable):\n",
       "    \"\"\"Yield elements from multiple iterators\"\"\"\n",
       "    for item in iterable:\n",
       "        if isinstance(item, Iterable) and not isinstance(item, str):\n",
       "            yield from flatten(item)\n",
       "        else:\n",
       "            yield item\n",
       "\n",
       "# Usage example\n",
       "numbers = [1, 2]\n",
       "letters = ['a', 'b']\n",
       "\n",
       "for elem in flatten([numbers, letters]):\n",
       "    print(elem)\n",
       "```\n",
       "Output:\n",
       "```\n",
       "1\n",
       "2\n",
       "a\n",
       "b\n",
       "```\n",
       "In this example, `flatten` yields elements from the input iterable, recursively yielding from any sub-iterables. The `yield from` statement is used to delegate to another iterator.\n",
       "\n",
       "**When to use `yield from`?**\n",
       "\n",
       "Use `yield from` when you need to:\n",
       "\n",
       "* Handle multiple iterators or sequences\n",
       "* Reduce memory usage by processing data in chunks\n",
       "* Simplify your code and make it more readable\n",
       "\n",
       "Remember, `yield from` is not just a shortcut; it's a powerful tool for writing efficient and elegant generators!"
      ],
      "text/plain": [
       "<IPython.core.display.Markdown object>"
      ]
     },
     "metadata": {},
     "output_type": "display_data"
    }
   ],
   "source": [
    "answear_question(\"What does 'yield from' in Python do?\")"
   ]
  },
  {
   "cell_type": "code",
   "execution_count": null,
   "id": "04ed2757-6547-4877-bcb6-d7037e6ba6cb",
   "metadata": {},
   "outputs": [],
   "source": []
  }
 ],
 "metadata": {
  "kernelspec": {
   "display_name": "Python 3 (ipykernel)",
   "language": "python",
   "name": "python3"
  },
  "language_info": {
   "codemirror_mode": {
    "name": "ipython",
    "version": 3
   },
   "file_extension": ".py",
   "mimetype": "text/x-python",
   "name": "python",
   "nbconvert_exporter": "python",
   "pygments_lexer": "ipython3",
   "version": "3.11.13"
  }
 },
 "nbformat": 4,
 "nbformat_minor": 5
}
